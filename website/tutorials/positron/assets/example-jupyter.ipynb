{
 "cells": [
  {
   "cell_type": "markdown",
   "id": "b73fdeeb",
   "metadata": {},
   "source": [
    "# S&P 500 2010"
   ]
  },
  {
   "cell_type": "code",
   "execution_count": null,
   "id": "207d74fa",
   "metadata": {},
   "outputs": [],
   "source": [
    "from great_tables import GT\n",
    "from great_tables.data import sp500\n",
    "\n",
    "# Define the start and end dates for the data range\n",
    "start_date = \"2010-06-07\"\n",
    "end_date = \"2010-06-14\"\n",
    "\n",
    "# Filter sp500 using Pandas to dates between `start_date` and `end_date`\n",
    "sp500_mini = sp500[(sp500[\"date\"] >= start_date) & (sp500[\"date\"] <= end_date)]\n",
    "\n",
    "sp500_mini"
   ]
  },
  {
   "cell_type": "markdown",
   "id": "7b75f854",
   "metadata": {},
   "source": [
    "## A great table"
   ]
  },
  {
   "cell_type": "code",
   "execution_count": null,
   "id": "b1e57ce2",
   "metadata": {},
   "outputs": [],
   "source": [
    "# Create a gt table based on the `sp500_mini` table data\n",
    "(\n",
    "    GT(sp500_mini)\n",
    "    .tab_header(title=\"S&P 500\", subtitle=f\"{start_date} to {end_date}\")\n",
    "    .fmt_currency(columns=[\"open\", \"high\", \"low\", \"close\"])\n",
    "    .fmt_date(columns=\"date\", date_style=\"wd_m_day_year\")\n",
    "    .fmt_number(columns=\"volume\", compact=True)\n",
    "    .cols_hide(columns=\"adj_close\")\n",
    ")"
   ]
  },
  {
   "cell_type": "code",
   "execution_count": null,
   "id": "2c35d3f5",
   "metadata": {},
   "outputs": [],
   "source": []
  }
 ],
 "metadata": {
  "language_info": {
   "name": "python"
  }
 },
 "nbformat": 4,
 "nbformat_minor": 5
}
